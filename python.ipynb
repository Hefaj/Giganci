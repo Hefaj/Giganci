{
 "cells": [
  {
   "cell_type": "raw",
   "metadata": {},
   "source": [
    "5. Take two lists, say for example these two:\n",
    "\n",
    "  a = [1, 1, 2, 3, 5, 8, 13, 21, 34, 55, 89]\n",
    "  b = [1, 2, 3, 4, 5, 6, 7, 8, 9, 10, 11, 12, 13]\n",
    "\n",
    "and write a program that returns a list that contains only the elements that are common between the lists (without duplicates). Make sure your program works on two lists of different sizes."
   ]
  },
  {
   "cell_type": "code",
   "execution_count": 92,
   "metadata": {},
   "outputs": [],
   "source": [
    "a = [1, 1, 2, 3, 5, 8, 13, 21, 34, 55, 89]\n",
    "b = [1, 2, 3, 4, 5, 6, 7, 8, 9, 10, 11, 12, 13]"
   ]
  },
  {
   "cell_type": "code",
   "execution_count": 93,
   "metadata": {},
   "outputs": [
    {
     "data": {
      "text/plain": [
       "([1, 2, 3, 34, 5, 8, 13, 21, 55, 89],\n",
       " [1, 2, 3, 4, 5, 6, 7, 8, 9, 10, 11, 12, 13])"
      ]
     },
     "execution_count": 93,
     "metadata": {},
     "output_type": "execute_result"
    }
   ],
   "source": [
    "a=list(set(a))\n",
    "b=list(set(b))\n",
    "a,b"
   ]
  },
  {
   "cell_type": "code",
   "execution_count": 95,
   "metadata": {},
   "outputs": [
    {
     "data": {
      "text/plain": [
       "[1, 2, 3, 5, 8, 13]"
      ]
     },
     "execution_count": 95,
     "metadata": {},
     "output_type": "execute_result"
    }
   ],
   "source": [
    "if len(a) < len(b):\n",
    "    c = b\n",
    "    b = a\n",
    "    a = c\n",
    "    \n",
    "[ i for i in a if i in b ]"
   ]
  },
  {
   "cell_type": "markdown",
   "metadata": {},
   "source": [
    "---"
   ]
  },
  {
   "cell_type": "raw",
   "metadata": {},
   "source": [
    "6. Ask the user for a string and print out whether this string is a palindrome or not. (A palindrome is a string that reads the same forwards and backwards.)"
   ]
  },
  {
   "cell_type": "code",
   "execution_count": 41,
   "metadata": {},
   "outputs": [
    {
     "name": "stdin",
     "output_type": "stream",
     "text": [
      "Say something:  kajak\n"
     ]
    }
   ],
   "source": [
    "word = input(\"Say something: \")"
   ]
  },
  {
   "cell_type": "code",
   "execution_count": 45,
   "metadata": {},
   "outputs": [
    {
     "name": "stdout",
     "output_type": "stream",
     "text": [
      "This word is palindrome.\n"
     ]
    }
   ],
   "source": [
    "if word == word[::-1]:\n",
    "    print (\"This word is palindrome.\")\n",
    "else:\n",
    "    print (\"This word is not palindrome.\")"
   ]
  },
  {
   "cell_type": "markdown",
   "metadata": {},
   "source": [
    "---"
   ]
  },
  {
   "cell_type": "raw",
   "metadata": {},
   "source": [
    "7. Let’s say I give you a list saved in a variable: \n",
    "a = [1, 4, 9, 16, 25, 36, 49, 64, 81, 100]. \n",
    "Write one line of Python that takes this list a and makes a new list that has only the even elements of this list in it."
   ]
  },
  {
   "cell_type": "code",
   "execution_count": 43,
   "metadata": {},
   "outputs": [],
   "source": [
    "a = [1, 4, 9, 16, 25, 36, 49, 64, 81, 100]"
   ]
  },
  {
   "cell_type": "code",
   "execution_count": 44,
   "metadata": {},
   "outputs": [
    {
     "data": {
      "text/plain": [
       "[1, 9, 25, 49, 81]"
      ]
     },
     "execution_count": 44,
     "metadata": {},
     "output_type": "execute_result"
    }
   ],
   "source": [
    "[ i for i in a if i%2!=0 ]"
   ]
  },
  {
   "cell_type": "markdown",
   "metadata": {},
   "source": [
    "---"
   ]
  },
  {
   "cell_type": "raw",
   "metadata": {},
   "source": [
    "8. Make a two-player Rock-Paper-Scissors game. \n",
    "(Hint: Ask for player plays (using input), compare them, \n",
    "print out a message of congratulations to the winner, \n",
    "and ask if the players want to start a new game)"
   ]
  },
  {
   "cell_type": "code",
   "execution_count": 68,
   "metadata": {},
   "outputs": [
    {
     "name": "stdin",
     "output_type": "stream",
     "text": [
      "Player 1:\n",
      "Rock[1]-Paper[2]-Scissors[3] 2\n",
      "Player 2:\n",
      "Rock[1]-Paper[2]-Scissors[3] 1\n"
     ]
    },
    {
     "name": "stdout",
     "output_type": "stream",
     "text": [
      "Player 1 Win!\n"
     ]
    },
    {
     "name": "stdin",
     "output_type": "stream",
     "text": [
      "reset? y/n n\n"
     ]
    }
   ],
   "source": [
    "while True:\n",
    "    p1 = int(input(\"Player 1:\\nRock[1]-Paper[2]-Scissors[3]\"))\n",
    "    p2 = int(input(\"Player 2:\\nRock[1]-Paper[2]-Scissors[3]\"))\n",
    "    \n",
    "    if p1+1 == p2:\n",
    "        print(\"Player 2 Win!\")\n",
    "        wall = True\n",
    "    elif p2+1 == p1:\n",
    "        print(\"Player 1 Win!\")\n",
    "        wall = True\n",
    "        \n",
    "    if input(\"reset? y/n\") == 'n':\n",
    "        break"
   ]
  },
  {
   "cell_type": "markdown",
   "metadata": {},
   "source": [
    "---"
   ]
  },
  {
   "cell_type": "raw",
   "metadata": {},
   "source": [
    "9. Generate a random number between 1 and 9 (including 1 and 9). Ask the user to guess the number, then tell them whether they guessed too low, too high, or exactly right. (Hint: remember to use the user input lessons from the very first exercise)"
   ]
  },
  {
   "cell_type": "code",
   "execution_count": 86,
   "metadata": {},
   "outputs": [],
   "source": [
    "import random\n",
    "import time\n",
    "random.seed(time.time())\n",
    "r = random.randint(1,9)"
   ]
  },
  {
   "cell_type": "code",
   "execution_count": 85,
   "metadata": {},
   "outputs": [
    {
     "name": "stdin",
     "output_type": "stream",
     "text": [
      "Guess the number\n",
      " 5\n",
      "Too high\n",
      " 2\n",
      "Too low\n",
      " 3\n"
     ]
    },
    {
     "name": "stdout",
     "output_type": "stream",
     "text": [
      "YES!, it's 3.\n"
     ]
    }
   ],
   "source": [
    "p = int(input('Guess the number\\n'))\n",
    "while p != r:\n",
    "    if p>r:\n",
    "        p = int(input(\"Too high\\n\"))\n",
    "    else: \n",
    "        p = int(input(\"Too low\\n\"))\n",
    "print (\"YES!, it's {}.\".format(r))"
   ]
  },
  {
   "cell_type": "markdown",
   "metadata": {},
   "source": [
    "---"
   ]
  },
  {
   "cell_type": "raw",
   "metadata": {},
   "source": [
    "11. Ask the user for a number and determine whether the number is prime or not. (For those who have forgotten, a prime number is a number that has no divisors.). You can (and should!) use your answer to Exercise 4 to help you. Take this opportunity to practice using functions, described below."
   ]
  },
  {
   "cell_type": "code",
   "execution_count": 16,
   "metadata": {},
   "outputs": [
    {
     "name": "stdin",
     "output_type": "stream",
     "text": [
      "Give me a number! 11\n"
     ]
    }
   ],
   "source": [
    "number = int(input(\"Give me a number!\"))\n"
   ]
  },
  {
   "cell_type": "code",
   "execution_count": 20,
   "metadata": {},
   "outputs": [],
   "source": [
    "prime = True\n",
    "for x in range(2,int(number/2)+1):\n",
    "    if number % x == 0:\n",
    "        prime = False\n",
    "\n",
    "if prime:\n",
    "    print (\"{} is a prime.\".format(number))"
   ]
  },
  {
   "cell_type": "markdown",
   "metadata": {},
   "source": [
    "---"
   ]
  },
  {
   "cell_type": "raw",
   "metadata": {},
   "source": [
    "12. Write a program that takes a list of numbers (for example, a = [5, 10, 15, 20, 25]) and makes a new list of only the first and last elements of the given list. For practice, write this code inside a function."
   ]
  },
  {
   "cell_type": "code",
   "execution_count": 21,
   "metadata": {},
   "outputs": [],
   "source": [
    "def fun(t):\n",
    "    return [t[0], t[-1]]"
   ]
  },
  {
   "cell_type": "code",
   "execution_count": 24,
   "metadata": {},
   "outputs": [
    {
     "name": "stdout",
     "output_type": "stream",
     "text": [
      "[5, 25]\n"
     ]
    }
   ],
   "source": [
    "a = [5, 10, 15, 20, 25]\n",
    "print (fun(a))"
   ]
  },
  {
   "cell_type": "markdown",
   "metadata": {},
   "source": [
    "---"
   ]
  },
  {
   "cell_type": "raw",
   "metadata": {},
   "source": [
    "13. Write a program that asks the user how many Fibonnaci numbers to generate and then generates them. Take this opportunity to think about how you can use functions. Make sure to ask the user to enter the number of numbers in the sequence to generate.(Hint: The Fibonnaci seqence is a sequence of numbers where the next number in the sequence is the sum of the previous two numbers in the sequence. The sequence looks like this: 1, 1, 2, 3, 5, 8, 13, …)"
   ]
  },
  {
   "cell_type": "code",
   "execution_count": 54,
   "metadata": {},
   "outputs": [
    {
     "name": "stdin",
     "output_type": "stream",
     "text": [
      "Give me a number! 6\n"
     ]
    }
   ],
   "source": [
    "n = int(input(\"Give me a number!\"))"
   ]
  },
  {
   "cell_type": "code",
   "execution_count": 55,
   "metadata": {},
   "outputs": [
    {
     "name": "stdout",
     "output_type": "stream",
     "text": [
      "1 : 1\n",
      "2 : 1\n",
      "3 : 2\n",
      "4 : 3\n",
      "5 : 5\n",
      "6 : 8\n"
     ]
    }
   ],
   "source": [
    "a,b,o = 0,1,1\n",
    "for x in range(1,n+1):\n",
    "    print (\"{} : {}\".format(x,o)) \n",
    "    o = a+b\n",
    "    a,b = b,o"
   ]
  },
  {
   "cell_type": "markdown",
   "metadata": {},
   "source": [
    "---"
   ]
  },
  {
   "cell_type": "raw",
   "metadata": {},
   "source": [
    "14. Write a program (function!) that takes a list and returns a new list that contains all the elements of the first list minus all the duplicates.\n",
    "\n",
    "Extras:\n",
    "\n",
    "    Write two different functions to do this - one using a loop and constructing a list, and another using sets.\n",
    "    Go back and do Exercise 5 using sets, and write the solution for that in a different function."
   ]
  },
  {
   "cell_type": "code",
   "execution_count": 118,
   "metadata": {},
   "outputs": [
    {
     "name": "stdout",
     "output_type": "stream",
     "text": [
      "[1, 2, 4, 5, 7, 12]\n",
      "[1, 2, 7, 12, 4, 5]\n"
     ]
    }
   ],
   "source": [
    "import datetime\n",
    "\n",
    "a = [1,2,7,12,4,1,5,2]\n",
    "\n",
    "def setFun(l):\n",
    "    return list(set(l))\n",
    "\n",
    "def loopFun(l):\n",
    "    s = []\n",
    "    for x in l:\n",
    "        if x not in s:\n",
    "            s.append(x)\n",
    "    return s\n",
    "\n",
    "print (setFun(a))\n",
    "print (loopFun(a))"
   ]
  },
  {
   "cell_type": "markdown",
   "metadata": {},
   "source": [
    "---"
   ]
  },
  {
   "cell_type": "raw",
   "metadata": {},
   "source": [
    "15. Write a program (using functions!) that asks the user for a long string containing multiple words. Print back to the user the same string, except with the words in backwards order. For example, say I type the string:\n",
    "\n",
    "  My name is Michele\n",
    "\n",
    "Then I would see the string:\n",
    "\n",
    "  Michele is name My\n",
    "\n",
    "shown back to me."
   ]
  },
  {
   "cell_type": "code",
   "execution_count": 136,
   "metadata": {},
   "outputs": [
    {
     "name": "stdin",
     "output_type": "stream",
     "text": [
      "Give me a long string! My name is Michele\n"
     ]
    },
    {
     "name": "stdout",
     "output_type": "stream",
     "text": [
      "Michele is name My\n"
     ]
    }
   ],
   "source": [
    "s = input('Give me a long string!')\n",
    "\n",
    "def swapFun(s):\n",
    "    return ' '.join(s.split()[::-1])\n",
    "    \n",
    "print (swapFun(s))"
   ]
  },
  {
   "cell_type": "markdown",
   "metadata": {},
   "source": [
    "---"
   ]
  },
  {
   "cell_type": "raw",
   "metadata": {},
   "source": [
    "16. Write a password generator in Python. Be creative with how you generate passwords - strong passwords have a mix of lowercase letters, uppercase letters, numbers, and symbols. The passwords should be random, generating a new password every time the user asks for a new password. Include your run-time code in a main method.\n",
    "\n",
    "Extra:\n",
    "    Ask the user how strong they want their password to be. For weak passwords, pick a word or two from a list."
   ]
  },
  {
   "cell_type": "code",
   "execution_count": 189,
   "metadata": {},
   "outputs": [],
   "source": [
    "# TODO \n",
    "# 'strong passwords have a mix of lowercase letters, uppercase letters, numbers, and symbols'\n",
    "# passGen doesn't ensure that password will have minimum one uppercase letters, numbers, and symbols\n",
    "\n",
    "# l is a password lenght \n",
    "\n",
    "import random\n",
    "def passGen(l):\n",
    "    t = 'abcdefghijklmnopqrstuvwxyz1234567890!@#$%^&*+=-[{(,?)}]'\n",
    "    t += t[:25].upper()\n",
    "    t = [x for x in t]\n",
    "    return ''.join(random.choices(t,k=l))"
   ]
  },
  {
   "cell_type": "markdown",
   "metadata": {},
   "source": [
    "---"
   ]
  },
  {
   "cell_type": "code",
   "execution_count": 191,
   "metadata": {},
   "outputs": [
    {
     "data": {
      "text/plain": [
       "'qk^=u58Vsb'"
      ]
     },
     "execution_count": 191,
     "metadata": {},
     "output_type": "execute_result"
    }
   ],
   "source": [
    "passGen(10)"
   ]
  },
  {
   "cell_type": "markdown",
   "metadata": {},
   "source": [
    "---"
   ]
  },
  {
   "cell_type": "raw",
   "metadata": {},
   "source": [
    "17. Use the BeautifulSoup and requests Python packages to print out a list of all the article titles on the New York Times homepage."
   ]
  },
  {
   "cell_type": "code",
   "execution_count": 2,
   "metadata": {},
   "outputs": [],
   "source": [
    "'''from bs4 import BeautifulSoup\n",
    "# some requests code here for getting r_html \n",
    "soup = BeautifulSoup(r_html)\n",
    "title = soup.find('span', 'articletitle').string\n",
    "'''\n",
    "import requests\n",
    "\n",
    "url = 'https://www.nytimes.com/'\n",
    "r = requests.get(url)\n",
    "r_html = r.text"
   ]
  },
  {
   "cell_type": "code",
   "execution_count": 67,
   "metadata": {
    "scrolled": false
   },
   "outputs": [
    {
     "name": "stdout",
     "output_type": "stream",
     "text": [
      "Trump Heads to Pentagon to Announce Expansion of Missile Defenses\n",
      "Killing of 4 Americans Raises Worries About Pullout From Syria\n",
      "Steady Raises and a Pension: These Workers Had a Good Deal Until the Pay Stopped\n",
      "White House Redefines Who Is Essential to Get Parts of Government Moving Again\n",
      "“We are getting crushed!” Despite his public bravado, President Trump is said to be frustrated with aides over the shutdown.\n",
      "E.U. Sees ‘Catastrophic Success’ in Brexit Mess\n",
      "Britain’s Government Is in Chaos, but Somehow Its Leader Still Stands\n",
      "The N.F.L.’s Obesity Scourge\n",
      "Tackling Inequality, Microsoft Pledges $500 Million for Housing\n",
      "Top Investor Says C.E.O.s Can Bridge Global Rifts\n",
      "Is Ancient DNA Research Revealing New Truths, or Falling Into Old Traps?\n",
      "Here are five takeaways from our long read on ancient DNA research.\n",
      "The Malign Incompetence of the British Ruling Class \n",
      "Kamala Harris Was Not a ‘Progressive Prosecutor’\n",
      "There’s Nothing Wrong With Open Borders\n",
      "Marching Toward a Massacre\n",
      "Take the Trump-Russia Quiz\n",
      "The Rudderless West\n",
      "The Bond Market Comes to Its Senses \n",
      "The Kind of Judge We Need\n",
      "The Fight Over Men Is Shaping Our Political Future\n",
      "Listen to ‘The Argument’: How Trump Loses the G.O.P.\n",
      "Germany’s China Problem\n",
      "Paramount Was Hollywood’s ‘Mountain.’ Now It’s a Molehill.\n",
      "New York’s Lost Department Stores\n",
      "36 Hours in Scottsdale\n"
     ]
    }
   ],
   "source": [
    "d = r_html.split('h2')[1:-6:2][3:]\n",
    "\n",
    "for x in d:\n",
    "    x = x.split('esl82me2\">')[1]\n",
    "    \n",
    "    if x.split('>')[0] == '<span':\n",
    "        x = x.split('>')[1].split('<')[0]\n",
    "        \n",
    "    print (x.split(\"<\")[0])"
   ]
  },
  {
   "cell_type": "markdown",
   "metadata": {},
   "source": [
    "---"
   ]
  },
  {
   "cell_type": "raw",
   "metadata": {},
   "source": [
    "18. Create a program that will play the “cows and bulls” game with the user. The game works like this:\n",
    "\n",
    "Randomly generate a 4-digit number. Ask the user to guess a 4-digit number. For every digit that the user guessed correctly in the correct place, they have a “cow”. For every digit the user guessed correctly in the wrong place is a “bull.” Every time the user makes a guess, tell them how many “cows” and “bulls” they have. Once the user guesses the correct number, the game is over. Keep track of the number of guesses the user makes throughout teh game and tell the user at the end.\n",
    "\n",
    "Say the number generated by the computer is 1038. An example interaction could look like this:\n",
    "\n",
    "  Welcome to the Cows and Bulls Game! \n",
    "  Enter a number: \n",
    "  >>> 1234\n",
    "  2 cows, 0 bulls\n",
    "  >>> 1256\n",
    "  1 cow, 1 bull\n",
    "  ...\n",
    "\n",
    "Until the user guesses the number."
   ]
  },
  {
   "cell_type": "code",
   "execution_count": 112,
   "metadata": {},
   "outputs": [
    {
     "name": "stdout",
     "output_type": "stream",
     "text": [
      "Give me a 4-digit number! 6396\n"
     ]
    }
   ],
   "source": [
    "n = input(\"Give me a 4-digit number! \")"
   ]
  },
  {
   "cell_type": "code",
   "execution_count": 122,
   "metadata": {},
   "outputs": [
    {
     "name": "stdout",
     "output_type": "stream",
     "text": [
      "['6', '3', '9', '6'] ['9', '3', '4', '6']\n",
      "2 cows, 3 bulls\n"
     ]
    }
   ],
   "source": [
    "import random\n",
    "\n",
    "cows, bulls = 0,0\n",
    "\n",
    "r = random.randint(1000,9999)\n",
    "r = list(str(r))\n",
    "n = [i for i in n]\n",
    "\n",
    "for i in r:\n",
    "    if i in n:\n",
    "        bulls += 1\n",
    "        \n",
    "for i in range(len(r)):\n",
    "    if n[i] == r[i]:\n",
    "        cows +=1\n",
    "    \n",
    "print (n,r)\n",
    "print ('{} cows, {} bulls'.format(cows, bulls))"
   ]
  },
  {
   "cell_type": "markdown",
   "metadata": {},
   "source": [
    "---"
   ]
  },
  {
   "cell_type": "raw",
   "metadata": {},
   "source": [
    "19. Using the requests and BeautifulSoup Python libraries, print to the screen the full text of the article on this website: http://www.vanityfair.com/society/2014/06/monica-lewinsky-humiliation-culture.\n",
    "\n",
    "The article is long, so it is split up between 4 pages. Your task is to print out the text to the screen so that you can read the full article without having to click any buttons.\n",
    "\n",
    "(Hint: The post here describes in detail how to use the BeautifulSoup and requests libraries through the solution of the exercise posted here.)\n",
    "\n",
    "This will just print the full text of the article to the screen. It will not make it easy to read, so next exercise we will learn how to write this text to a .txt file."
   ]
  },
  {
   "cell_type": "code",
   "execution_count": null,
   "metadata": {},
   "outputs": [],
   "source": [
    "#code"
   ]
  },
  {
   "cell_type": "markdown",
   "metadata": {},
   "source": [
    "---"
   ]
  },
  {
   "cell_type": "raw",
   "metadata": {},
   "source": [
    "20. Write a function that takes an ordered list of numbers (a list where the elements are in order from smallest to largest) and another number. The function decides whether or not the given number is inside the list and returns (then prints) an appropriate boolean.\n",
    "\n",
    "Extras:\n",
    "\n",
    "Use binary search."
   ]
  },
  {
   "cell_type": "code",
   "execution_count": 1,
   "metadata": {},
   "outputs": [],
   "source": [
    "def onList(l,n):\n",
    "    if n in l:\n",
    "        return True\n",
    "    return False"
   ]
  },
  {
   "cell_type": "code",
   "execution_count": 3,
   "metadata": {},
   "outputs": [
    {
     "name": "stdout",
     "output_type": "stream",
     "text": [
      "True\n",
      "False\n"
     ]
    }
   ],
   "source": [
    "a = [2,3,5,7]\n",
    "print(onList(a,5))\n",
    "print(onList(a,1))"
   ]
  },
  {
   "cell_type": "markdown",
   "metadata": {},
   "source": [
    "---"
   ]
  },
  {
   "cell_type": "raw",
   "metadata": {},
   "source": [
    "21. Take the code from the How To Decode A Website exercise (if you didn’t do it or just want to play with some different code, use the code from the solution), and instead of printing the results to a screen, write the results to a txt file. In your code, just make up a name for the file you are saving to.\n",
    "\n",
    "Extras:\n",
    "\n",
    "Ask the user to specify the name of the output file that will be saved."
   ]
  },
  {
   "cell_type": "code",
   "execution_count": 4,
   "metadata": {},
   "outputs": [
    {
     "name": "stdin",
     "output_type": "stream",
     "text": [
      "Give me a file name! titles\n"
     ]
    }
   ],
   "source": [
    "name = input('Give me a file name!')"
   ]
  },
  {
   "cell_type": "code",
   "execution_count": 8,
   "metadata": {},
   "outputs": [],
   "source": [
    "import requests\n",
    "\n",
    "url = 'https://www.nytimes.com/'\n",
    "r = requests.get(url)\n",
    "r_html = r.text\n",
    "\n",
    "open_file = open(name+'.txt', 'w')\n",
    "\n",
    "d = r_html.split('h2')[1:-6:2][3:]\n",
    "\n",
    "for x in d:\n",
    "    x = x.split('esl82me2\">')[1]\n",
    "    \n",
    "    if x.split('>')[0] == '<span':\n",
    "        x = x.split('>')[1].split('<')[0]\n",
    "        \n",
    "    open_file.write(x.split(\"<\")[0]+'\\n')\n",
    "    \n",
    "open_file.close()"
   ]
  },
  {
   "cell_type": "markdown",
   "metadata": {},
   "source": [
    "---"
   ]
  },
  {
   "cell_type": "raw",
   "metadata": {},
   "source": [
    "22. Given a .txt file that has a list of a bunch of names, count how many of each name there are in the file, and print out the results to the screen. I have a .txt file for you, if you want to use it!\n",
    "\n",
    "Extra:\n",
    "\n",
    "Instead of using the .txt file from above (or instead of, if you want the challenge), take this .txt file, and count how many of each “category” of each image there are. This text file is actually a list of files corresponding to the SUN database scene recognition database, and lists the file directory hierarchy for the images. Once you take a look at the first line or two of the file, it will be clear which part represents the scene category. To do this, you’re going to have to remember a bit about string parsing in Python 3. I talked a little bit about it in this post."
   ]
  },
  {
   "cell_type": "code",
   "execution_count": 33,
   "metadata": {},
   "outputs": [
    {
     "name": "stdout",
     "output_type": "stream",
     "text": [
      "Darth - 31\n",
      "Luke - 15\n",
      "Lea - 54\n"
     ]
    }
   ],
   "source": [
    "import requests\n",
    "response = requests.get('http://www.practicepython.org/assets/nameslist.txt')\n",
    "names = response.text\n",
    "names = names.split('\\n')\n",
    "\n",
    "while len(names)!=0:\n",
    "    print ('{} - {}'.format(names[0], names.count(names[0])))\n",
    "    name = names[0]\n",
    "    while name in names: names.remove(name)"
   ]
  },
  {
   "cell_type": "markdown",
   "metadata": {},
   "source": [
    "---"
   ]
  },
  {
   "cell_type": "code",
   "execution_count": null,
   "metadata": {},
   "outputs": [],
   "source": []
  }
 ],
 "metadata": {
  "kernelspec": {
   "display_name": "Python 3",
   "language": "python",
   "name": "python3"
  },
  "language_info": {
   "codemirror_mode": {
    "name": "ipython",
    "version": 3
   },
   "file_extension": ".py",
   "mimetype": "text/x-python",
   "name": "python",
   "nbconvert_exporter": "python",
   "pygments_lexer": "ipython3",
   "version": "3.6.7"
  }
 },
 "nbformat": 4,
 "nbformat_minor": 2
}
